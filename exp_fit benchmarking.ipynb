{
 "cells": [
  {
   "cell_type": "code",
   "execution_count": 1,
   "metadata": {},
   "outputs": [],
   "source": [
    "import numpy as np\n",
    "from numpy import (\n",
    "    argsort, asfarray, cumsum, diff, empty, empty_like, exp, log,\n",
    "    square,\n",
    ")"
   ]
  },
  {
   "cell_type": "code",
   "execution_count": 2,
   "metadata": {},
   "outputs": [],
   "source": [
    "x = list(range(100))\n",
    "y = list(range(1000,1100))\n",
    "\n",
    "x = argsort(asfarray(x).ravel())\n",
    "y = argsort(asfarray(y).ravel())"
   ]
  },
  {
   "cell_type": "code",
   "execution_count": 3,
   "metadata": {},
   "outputs": [
    {
     "name": "stdout",
     "output_type": "stream",
     "text": [
      "The slowest run took 7.19 times longer than the fastest. This could mean that an intermediate result is being cached.\n",
      "100000 loops, best of 3: 14.3 µs per loop\n"
     ]
    }
   ],
   "source": [
    "%%timeit\n",
    "s = empty_like(y)\n",
    "s[0] = 0\n",
    "s[1:] = cumsum(0.5 * (y[1:] + y[:-1]) * diff(x))"
   ]
  },
  {
   "cell_type": "code",
   "execution_count": 4,
   "metadata": {},
   "outputs": [
    {
     "name": "stdout",
     "output_type": "stream",
     "text": [
      "The slowest run took 4.89 times longer than the fastest. This could mean that an intermediate result is being cached.\n",
      "100000 loops, best of 3: 17 µs per loop\n"
     ]
    }
   ],
   "source": [
    "%%timeit\n",
    "s = empty_like(y)\n",
    "s[0] = 0\n",
    "s[1:] = y[:-1]\n",
    "s[1:] += y[1:]\n",
    "s[1:] *= np.diff(x)\n",
    "s = s * .5\n",
    "s = np.cumsum(s)"
   ]
  }
 ],
 "metadata": {
  "kernelspec": {
   "display_name": "Python 2",
   "language": "python",
   "name": "python2"
  },
  "language_info": {
   "codemirror_mode": {
    "name": "ipython",
    "version": 2
   },
   "file_extension": ".py",
   "mimetype": "text/x-python",
   "name": "python",
   "nbconvert_exporter": "python",
   "pygments_lexer": "ipython2",
   "version": "2.7.15rc1"
  }
 },
 "nbformat": 4,
 "nbformat_minor": 2
}
