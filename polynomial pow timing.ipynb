{
 "cells": [
  {
   "cell_type": "code",
   "execution_count": 187,
   "metadata": {},
   "outputs": [],
   "source": [
    "import numpy as np\n",
    "from functools import reduce\n",
    "from numpy.polynomial import chebyshev as C"
   ]
  },
  {
   "cell_type": "code",
   "execution_count": 236,
   "metadata": {},
   "outputs": [],
   "source": [
    "small = np.random.randint(1, 50, 20)\n",
    "medium = np.random.randint(1, 50, 1000)\n",
    "large = np.random.randint(1, 50, 100000)\n",
    "\n",
    "power = 2"
   ]
  },
  {
   "cell_type": "markdown",
   "metadata": {},
   "source": [
    "## `pow` fns"
   ]
  },
  {
   "cell_type": "code",
   "execution_count": 280,
   "metadata": {},
   "outputs": [],
   "source": [
    "def default_pow(arr, power):\n",
    "    prd = arr\n",
    "    for _ in range(power - 1):\n",
    "        prd = C.chebmul(tgt, arr)\n",
    "    return prd"
   ]
  },
  {
   "cell_type": "code",
   "execution_count": 258,
   "metadata": {},
   "outputs": [],
   "source": [
    "def cheb_pow(arr, power):\n",
    "    zs = C._cseries_to_zseries(arr)\n",
    "    prd = zs\n",
    "    for _ in range(power - 1):\n",
    "        prd = np.convolve(prd, zs)\n",
    "    return C._zseries_to_cseries(prd)"
   ]
  },
  {
   "cell_type": "code",
   "execution_count": 260,
   "metadata": {},
   "outputs": [],
   "source": [
    "def reduce_pow(arr, power):\n",
    "    return reduce(C.chebmul, [arr]*power)"
   ]
  },
  {
   "cell_type": "code",
   "execution_count": 267,
   "metadata": {},
   "outputs": [],
   "source": [
    "def _binary_pow(func, x, n):\n",
    "    \"\"\"\n",
    "    compute reduce(func, [x]*n) in O(log N) calls to func\n",
    "    assumes that `func` is associative, and n >= 1\n",
    "    \"\"\"\n",
    "    result = None\n",
    "    z = x\n",
    "    while True:\n",
    "        n, bit = divmod(n, 2)\n",
    "        if bit:\n",
    "            if result is None:\n",
    "                result = z  # optimization - don't initialize result to the identity\n",
    "            else:\n",
    "                result = func(result, z)\n",
    "        if n == 0:\n",
    "            return result\n",
    "\n",
    "        z = func(z, z)\n",
    "\n",
    "def binary_pow(arr, power):\n",
    "    return _binary_pow(C.chebmul, arr, power)"
   ]
  },
  {
   "cell_type": "markdown",
   "metadata": {},
   "source": [
    "### Small Size"
   ]
  },
  {
   "cell_type": "code",
   "execution_count": 281,
   "metadata": {},
   "outputs": [
    {
     "name": "stdout",
     "output_type": "stream",
     "text": [
      "10000 loops, best of 3: 43.9 µs per loop\n"
     ]
    }
   ],
   "source": [
    "%timeit default_pow(small, power)"
   ]
  },
  {
   "cell_type": "code",
   "execution_count": 263,
   "metadata": {
    "scrolled": true
   },
   "outputs": [
    {
     "name": "stdout",
     "output_type": "stream",
     "text": [
      "The slowest run took 9.18 times longer than the fastest. This could mean that an intermediate result is being cached.\n",
      "100000 loops, best of 3: 13.4 µs per loop\n"
     ]
    }
   ],
   "source": [
    "%timeit cheb_pow(small, power)"
   ]
  },
  {
   "cell_type": "code",
   "execution_count": 265,
   "metadata": {},
   "outputs": [
    {
     "name": "stdout",
     "output_type": "stream",
     "text": [
      "The slowest run took 8.96 times longer than the fastest. This could mean that an intermediate result is being cached.\n",
      "10000 loops, best of 3: 40.8 µs per loop\n"
     ]
    }
   ],
   "source": [
    "%timeit reduce_pow(small, power)"
   ]
  },
  {
   "cell_type": "code",
   "execution_count": 268,
   "metadata": {},
   "outputs": [
    {
     "name": "stdout",
     "output_type": "stream",
     "text": [
      "The slowest run took 5.63 times longer than the fastest. This could mean that an intermediate result is being cached.\n",
      "10000 loops, best of 3: 41.8 µs per loop\n"
     ]
    }
   ],
   "source": [
    "%timeit binary_pow(small, power)"
   ]
  },
  {
   "cell_type": "markdown",
   "metadata": {},
   "source": [
    "### Medium Size"
   ]
  },
  {
   "cell_type": "code",
   "execution_count": 282,
   "metadata": {},
   "outputs": [
    {
     "name": "stdout",
     "output_type": "stream",
     "text": [
      "10000 loops, best of 3: 122 µs per loop\n"
     ]
    }
   ],
   "source": [
    "%timeit default_pow(medium, power)"
   ]
  },
  {
   "cell_type": "code",
   "execution_count": 269,
   "metadata": {},
   "outputs": [
    {
     "name": "stdout",
     "output_type": "stream",
     "text": [
      "1000 loops, best of 3: 1.94 ms per loop\n"
     ]
    }
   ],
   "source": [
    "%timeit cheb_pow(medium, power)"
   ]
  },
  {
   "cell_type": "code",
   "execution_count": 271,
   "metadata": {},
   "outputs": [
    {
     "name": "stdout",
     "output_type": "stream",
     "text": [
      "1000 loops, best of 3: 698 µs per loop\n"
     ]
    }
   ],
   "source": [
    "%timeit reduce_pow(medium, power)"
   ]
  },
  {
   "cell_type": "code",
   "execution_count": 273,
   "metadata": {},
   "outputs": [
    {
     "name": "stdout",
     "output_type": "stream",
     "text": [
      "1000 loops, best of 3: 679 µs per loop\n"
     ]
    }
   ],
   "source": [
    "%timeit binary_pow(medium, power)"
   ]
  },
  {
   "cell_type": "markdown",
   "metadata": {},
   "source": [
    "### Large Size"
   ]
  },
  {
   "cell_type": "code",
   "execution_count": 283,
   "metadata": {},
   "outputs": [
    {
     "name": "stdout",
     "output_type": "stream",
     "text": [
      "100 loops, best of 3: 7.66 ms per loop\n"
     ]
    }
   ],
   "source": [
    "%timeit default_pow(large, power)"
   ]
  },
  {
   "cell_type": "code",
   "execution_count": 275,
   "metadata": {
    "scrolled": true
   },
   "outputs": [
    {
     "name": "stdout",
     "output_type": "stream",
     "text": [
      "1 loop, best of 3: 20.6 s per loop\n"
     ]
    }
   ],
   "source": [
    "%timeit cheb_pow(large, power)"
   ]
  },
  {
   "cell_type": "code",
   "execution_count": 278,
   "metadata": {},
   "outputs": [
    {
     "name": "stdout",
     "output_type": "stream",
     "text": [
      "1 loop, best of 3: 8.07 s per loop\n"
     ]
    }
   ],
   "source": [
    "%timeit reduce_pow(large, power)"
   ]
  },
  {
   "cell_type": "code",
   "execution_count": 279,
   "metadata": {},
   "outputs": [
    {
     "name": "stdout",
     "output_type": "stream",
     "text": [
      "1 loop, best of 3: 9.06 s per loop\n"
     ]
    }
   ],
   "source": [
    "%timeit binary_pow(large, power)"
   ]
  }
 ],
 "metadata": {
  "kernelspec": {
   "display_name": "Python 2",
   "language": "python",
   "name": "python2"
  },
  "language_info": {
   "codemirror_mode": {
    "name": "ipython",
    "version": 2
   },
   "file_extension": ".py",
   "mimetype": "text/x-python",
   "name": "python",
   "nbconvert_exporter": "python",
   "pygments_lexer": "ipython2",
   "version": "2.7.13"
  }
 },
 "nbformat": 4,
 "nbformat_minor": 2
}
