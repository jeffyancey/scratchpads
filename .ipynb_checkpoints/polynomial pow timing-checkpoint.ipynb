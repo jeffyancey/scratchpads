{
 "cells": [
  {
   "cell_type": "code",
   "execution_count": 1,
   "metadata": {},
   "outputs": [],
   "source": [
    "import numpy as np\n",
    "from functools import reduce\n",
    "from numpy.polynomial import chebyshev as C"
   ]
  },
  {
   "cell_type": "code",
   "execution_count": 2,
   "metadata": {},
   "outputs": [],
   "source": [
    "small = np.random.randint(1, 50, 20)\n",
    "medium = np.random.randint(1, 50, 1000)\n",
    "large = np.random.randint(1, 50, 100000)\n",
    "\n",
    "power = 2"
   ]
  },
  {
   "cell_type": "markdown",
   "metadata": {},
   "source": [
    "## `pow` fns"
   ]
  },
  {
   "cell_type": "code",
   "execution_count": 3,
   "metadata": {},
   "outputs": [],
   "source": [
    "def default_pow(arr, power):\n",
    "    prd = arr\n",
    "    for _ in range(power - 1):\n",
    "        prd = C.chebmul(prd, arr)\n",
    "    return prd"
   ]
  },
  {
   "cell_type": "code",
   "execution_count": 4,
   "metadata": {},
   "outputs": [],
   "source": [
    "def cheb_pow(arr, power):\n",
    "    c = C._cseries_to_zseries(arr)\n",
    "    prd = c\n",
    "    for _ in range(power - 1):\n",
    "        prd = np.convolve(prd, c)\n",
    "    return C._zseries_to_cseries(prd)"
   ]
  },
  {
   "cell_type": "code",
   "execution_count": 5,
   "metadata": {},
   "outputs": [],
   "source": [
    "def reduce_pow(arr, power):\n",
    "    return reduce(C.chebmul, [arr]*power)"
   ]
  },
  {
   "cell_type": "code",
   "execution_count": 6,
   "metadata": {},
   "outputs": [],
   "source": [
    "def _binary_pow(func, x, n):\n",
    "    \"\"\"\n",
    "    compute reduce(func, [x]*n) in O(log N) calls to func\n",
    "    assumes that `func` is associative, and n >= 1\n",
    "    \"\"\"\n",
    "    result = None\n",
    "    z = x\n",
    "    while True:\n",
    "        n, bit = divmod(n, 2)\n",
    "        if bit:\n",
    "            if result is None:\n",
    "                result = z  # optimization - don't initialize result to the identity\n",
    "            else:\n",
    "                result = func(result, z)\n",
    "        if n == 0:\n",
    "            return result\n",
    "\n",
    "        z = func(z, z)\n",
    "\n",
    "def binary_pow(arr, power):\n",
    "    return _binary_pow(C.chebmul, arr, power)"
   ]
  },
  {
   "cell_type": "markdown",
   "metadata": {},
   "source": [
    "### Small Size"
   ]
  },
  {
   "cell_type": "code",
   "execution_count": 7,
   "metadata": {},
   "outputs": [
    {
     "name": "stdout",
     "output_type": "stream",
     "text": [
      "The slowest run took 10.74 times longer than the fastest. This could mean that an intermediate result is being cached.\n",
      "10000 loops, best of 3: 39.9 µs per loop\n"
     ]
    }
   ],
   "source": [
    "%timeit default_pow(small, power)"
   ]
  },
  {
   "cell_type": "code",
   "execution_count": 8,
   "metadata": {
    "scrolled": true
   },
   "outputs": [
    {
     "name": "stdout",
     "output_type": "stream",
     "text": [
      "The slowest run took 16.39 times longer than the fastest. This could mean that an intermediate result is being cached.\n",
      "100000 loops, best of 3: 12.2 µs per loop\n"
     ]
    }
   ],
   "source": [
    "%timeit cheb_pow(small, power)"
   ]
  },
  {
   "cell_type": "code",
   "execution_count": 9,
   "metadata": {},
   "outputs": [
    {
     "name": "stdout",
     "output_type": "stream",
     "text": [
      "The slowest run took 4.74 times longer than the fastest. This could mean that an intermediate result is being cached.\n",
      "10000 loops, best of 3: 40.3 µs per loop\n"
     ]
    }
   ],
   "source": [
    "%timeit reduce_pow(small, power)"
   ]
  },
  {
   "cell_type": "code",
   "execution_count": 10,
   "metadata": {},
   "outputs": [
    {
     "name": "stdout",
     "output_type": "stream",
     "text": [
      "The slowest run took 6.09 times longer than the fastest. This could mean that an intermediate result is being cached.\n",
      "10000 loops, best of 3: 41.1 µs per loop\n"
     ]
    }
   ],
   "source": [
    "%timeit binary_pow(small, power)"
   ]
  },
  {
   "cell_type": "markdown",
   "metadata": {},
   "source": [
    "### Medium Size"
   ]
  },
  {
   "cell_type": "code",
   "execution_count": 11,
   "metadata": {},
   "outputs": [
    {
     "name": "stdout",
     "output_type": "stream",
     "text": [
      "1000 loops, best of 3: 692 µs per loop\n"
     ]
    }
   ],
   "source": [
    "%timeit default_pow(medium, power)"
   ]
  },
  {
   "cell_type": "code",
   "execution_count": 12,
   "metadata": {},
   "outputs": [
    {
     "name": "stdout",
     "output_type": "stream",
     "text": [
      "100 loops, best of 3: 2.04 ms per loop\n"
     ]
    }
   ],
   "source": [
    "%timeit cheb_pow(medium, power)"
   ]
  },
  {
   "cell_type": "code",
   "execution_count": 13,
   "metadata": {},
   "outputs": [
    {
     "name": "stdout",
     "output_type": "stream",
     "text": [
      "1000 loops, best of 3: 699 µs per loop\n"
     ]
    }
   ],
   "source": [
    "%timeit reduce_pow(medium, power)"
   ]
  },
  {
   "cell_type": "code",
   "execution_count": 14,
   "metadata": {},
   "outputs": [
    {
     "name": "stdout",
     "output_type": "stream",
     "text": [
      "1000 loops, best of 3: 683 µs per loop\n"
     ]
    }
   ],
   "source": [
    "%timeit binary_pow(medium, power)"
   ]
  },
  {
   "cell_type": "markdown",
   "metadata": {},
   "source": [
    "### Large Size"
   ]
  },
  {
   "cell_type": "code",
   "execution_count": null,
   "metadata": {},
   "outputs": [
    {
     "name": "stdout",
     "output_type": "stream",
     "text": [
      "1 loop, best of 3: 8.17 s per loop\n"
     ]
    }
   ],
   "source": [
    "%timeit default_pow(large, power)"
   ]
  },
  {
   "cell_type": "code",
   "execution_count": null,
   "metadata": {
    "scrolled": true
   },
   "outputs": [],
   "source": [
    "%timeit cheb_pow(large, power)"
   ]
  },
  {
   "cell_type": "code",
   "execution_count": null,
   "metadata": {},
   "outputs": [],
   "source": [
    "%timeit reduce_pow(large, power)"
   ]
  },
  {
   "cell_type": "code",
   "execution_count": null,
   "metadata": {},
   "outputs": [],
   "source": [
    "%timeit binary_pow(large, power)"
   ]
  }
 ],
 "metadata": {
  "kernelspec": {
   "display_name": "Python 2",
   "language": "python",
   "name": "python2"
  },
  "language_info": {
   "codemirror_mode": {
    "name": "ipython",
    "version": 2
   },
   "file_extension": ".py",
   "mimetype": "text/x-python",
   "name": "python",
   "nbconvert_exporter": "python",
   "pygments_lexer": "ipython2",
   "version": "2.7.13"
  }
 },
 "nbformat": 4,
 "nbformat_minor": 2
}
